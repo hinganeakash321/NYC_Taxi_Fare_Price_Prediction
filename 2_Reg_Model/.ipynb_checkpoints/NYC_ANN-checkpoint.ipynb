{
 "cells": [
  {
   "cell_type": "code",
   "execution_count": 1,
   "metadata": {
    "colab": {
     "base_uri": "https://localhost:8080/"
    },
    "id": "CtllWg4t2XWI",
    "outputId": "82f0274a-9134-420b-b59b-51930f5aa9e6"
   },
   "outputs": [
    {
     "name": "stdout",
     "output_type": "stream",
     "text": [
      "libraries imported successfully\n"
     ]
    }
   ],
   "source": [
    "import pandas as pd\n",
    "import numpy as np\n",
    "\n",
    "import matplotlib.pyplot as plt\n",
    "plt.style.use('fivethirtyeight')\n",
    "%matplotlib inline\n",
    "import seaborn as sns\n",
    "\n",
    "print(\"libraries imported successfully\")"
   ]
  },
  {
   "cell_type": "code",
   "execution_count": 2,
   "metadata": {
    "id": "UmSVimYJ2XTp"
   },
   "outputs": [],
   "source": [
    "datatype={'fare_amount':'float64','pickup_datetime':'object', 'pickup_longitude':'float64', 'pickup_latitude':'float64',\n",
    "       'dropoff_longitude':'float64', 'dropoff_latitude':'float64', 'passenger_count':'int64'}"
   ]
  },
  {
   "cell_type": "code",
   "execution_count": 3,
   "metadata": {
    "id": "39_hbUKq2XRK"
   },
   "outputs": [],
   "source": [
    "df = pd.read_csv('EDA_data.csv',dtype = datatype,parse_dates=['pickup_datetime'])"
   ]
  },
  {
   "cell_type": "code",
   "execution_count": 4,
   "metadata": {},
   "outputs": [
    {
     "data": {
      "text/plain": [
       "Index(['Unnamed: 0', 'fare_amount', 'pickup_datetime', 'pickup_longitude',\n",
       "       'pickup_latitude', 'dropoff_longitude', 'dropoff_latitude',\n",
       "       'passenger_count', 'year', 'month', 'day', 'weekday',\n",
       "       'pickup_datetime_hour', 'distance_km'],\n",
       "      dtype='object')"
      ]
     },
     "execution_count": 4,
     "metadata": {},
     "output_type": "execute_result"
    }
   ],
   "source": [
    "df.columns"
   ]
  },
  {
   "cell_type": "code",
   "execution_count": 6,
   "metadata": {
    "id": "r8thFXLJ2XOa"
   },
   "outputs": [],
   "source": [
    "X= df.drop(['fare_amount','pickup_datetime','Unnamed: 0'],axis=1)\n",
    "Y= df[['fare_amount']]"
   ]
  },
  {
   "cell_type": "code",
   "execution_count": 7,
   "metadata": {
    "colab": {
     "base_uri": "https://localhost:8080/"
    },
    "id": "WEYTkCtE2hEd",
    "outputId": "ca89432c-4df1-48e2-fe8e-915a5ddea4f3"
   },
   "outputs": [
    {
     "data": {
      "text/plain": [
       "((4495639, 11), (1926703, 11), (4495639, 1), (1926703, 1))"
      ]
     },
     "execution_count": 7,
     "metadata": {},
     "output_type": "execute_result"
    }
   ],
   "source": [
    "from sklearn.model_selection import train_test_split\n",
    "\n",
    "X_train,X_test,Y_train,Y_test = train_test_split(X,Y, test_size=0.3, random_state=21)\n",
    "X_train.shape,X_test.shape,Y_train.shape,Y_test.shape"
   ]
  },
  {
   "cell_type": "markdown",
   "metadata": {
    "id": "bxPPcxRZ2pgL"
   },
   "source": [
    "## Keras Tuner"
   ]
  },
  {
   "cell_type": "code",
   "execution_count": 14,
   "metadata": {
    "id": "suZNOjQE2hB2"
   },
   "outputs": [],
   "source": [
    "!pip install -q -U keras-tuner"
   ]
  },
  {
   "cell_type": "code",
   "execution_count": 42,
   "metadata": {
    "id": "GoY3lCj22g_N"
   },
   "outputs": [],
   "source": [
    "from tensorflow import keras\n",
    "from tensorflow.keras import layers\n",
    "from kerastuner.tuners import RandomSearch\n",
    "from tensorflow.keras import Sequential\n",
    "from tensorflow.keras.layers import Dense"
   ]
  },
  {
   "cell_type": "code",
   "execution_count": 43,
   "metadata": {
    "id": "X3o3NOu62g8f"
   },
   "outputs": [],
   "source": [
    "def build_model(hp):\n",
    "    model = keras.Sequential()\n",
    "    for i in range(hp.Int('num_layers', 2, 20)):\n",
    "        model.add(layers.Dense(units=hp.Int('units_' + str(i),\n",
    "                                            min_value=32,\n",
    "                                            max_value=512,\n",
    "                                            step=32),\n",
    "                               activation='relu'))\n",
    "    model.add(layers.Dense(1, activation='linear'))\n",
    "    model.compile(\n",
    "        optimizer=keras.optimizers.Adam(\n",
    "            hp.Choice('learning_rate', [1e-2, 1e-3, 1e-4])),\n",
    "        loss='mean_absolute_error',\n",
    "        metrics=['mean_absolute_error'])\n",
    "    return model"
   ]
  },
  {
   "cell_type": "code",
   "execution_count": 44,
   "metadata": {
    "id": "enSxgXo_2g5h"
   },
   "outputs": [],
   "source": [
    "tuner = RandomSearch(\n",
    "    build_model,\n",
    "    objective='val_mean_absolute_error',\n",
    "    max_trials=5,\n",
    "    executions_per_trial=1,\n",
    "    directory='project',\n",
    "    project_name='nyc Project')"
   ]
  },
  {
   "cell_type": "code",
   "execution_count": 45,
   "metadata": {
    "colab": {
     "base_uri": "https://localhost:8080/"
    },
    "id": "uTlx8D9E2zLr",
    "outputId": "d86a1a24-5f4c-4fb5-872d-81dfb0a7577a"
   },
   "outputs": [
    {
     "name": "stdout",
     "output_type": "stream",
     "text": [
      "Search space summary\n",
      "Default search space size: 21\n",
      "num_layers (Int)\n",
      "{'default': None, 'conditions': [], 'min_value': 2, 'max_value': 20, 'step': 1, 'sampling': None}\n",
      "units_0 (Int)\n",
      "{'default': None, 'conditions': [], 'min_value': 32, 'max_value': 512, 'step': 32, 'sampling': None}\n",
      "units_1 (Int)\n",
      "{'default': None, 'conditions': [], 'min_value': 32, 'max_value': 512, 'step': 32, 'sampling': None}\n",
      "learning_rate (Choice)\n",
      "{'default': 0.01, 'conditions': [], 'values': [0.01, 0.001, 0.0001], 'ordered': True}\n",
      "units_2 (Int)\n",
      "{'default': None, 'conditions': [], 'min_value': 32, 'max_value': 512, 'step': 32, 'sampling': None}\n",
      "units_3 (Int)\n",
      "{'default': None, 'conditions': [], 'min_value': 32, 'max_value': 512, 'step': 32, 'sampling': None}\n",
      "units_4 (Int)\n",
      "{'default': None, 'conditions': [], 'min_value': 32, 'max_value': 512, 'step': 32, 'sampling': None}\n",
      "units_5 (Int)\n",
      "{'default': None, 'conditions': [], 'min_value': 32, 'max_value': 512, 'step': 32, 'sampling': None}\n",
      "units_6 (Int)\n",
      "{'default': None, 'conditions': [], 'min_value': 32, 'max_value': 512, 'step': 32, 'sampling': None}\n",
      "units_7 (Int)\n",
      "{'default': None, 'conditions': [], 'min_value': 32, 'max_value': 512, 'step': 32, 'sampling': None}\n",
      "units_8 (Int)\n",
      "{'default': None, 'conditions': [], 'min_value': 32, 'max_value': 512, 'step': 32, 'sampling': None}\n",
      "units_9 (Int)\n",
      "{'default': None, 'conditions': [], 'min_value': 32, 'max_value': 512, 'step': 32, 'sampling': None}\n",
      "units_10 (Int)\n",
      "{'default': None, 'conditions': [], 'min_value': 32, 'max_value': 512, 'step': 32, 'sampling': None}\n",
      "units_11 (Int)\n",
      "{'default': None, 'conditions': [], 'min_value': 32, 'max_value': 512, 'step': 32, 'sampling': None}\n",
      "units_12 (Int)\n",
      "{'default': None, 'conditions': [], 'min_value': 32, 'max_value': 512, 'step': 32, 'sampling': None}\n",
      "units_13 (Int)\n",
      "{'default': None, 'conditions': [], 'min_value': 32, 'max_value': 512, 'step': 32, 'sampling': None}\n",
      "units_14 (Int)\n",
      "{'default': None, 'conditions': [], 'min_value': 32, 'max_value': 512, 'step': 32, 'sampling': None}\n",
      "units_15 (Int)\n",
      "{'default': None, 'conditions': [], 'min_value': 32, 'max_value': 512, 'step': 32, 'sampling': None}\n",
      "units_16 (Int)\n",
      "{'default': None, 'conditions': [], 'min_value': 32, 'max_value': 512, 'step': 32, 'sampling': None}\n",
      "units_17 (Int)\n",
      "{'default': None, 'conditions': [], 'min_value': 32, 'max_value': 512, 'step': 32, 'sampling': None}\n",
      "units_18 (Int)\n",
      "{'default': None, 'conditions': [], 'min_value': 32, 'max_value': 512, 'step': 32, 'sampling': None}\n"
     ]
    }
   ],
   "source": [
    "tuner.search_space_summary()"
   ]
  },
  {
   "cell_type": "code",
   "execution_count": 46,
   "metadata": {
    "id": "TZ63dSR22zJV"
   },
   "outputs": [],
   "source": [
    "tuner.search(X_train, Y_train,\n",
    "             epochs=5,\n",
    "             validation_data=(X_test, Y_test))"
   ]
  },
  {
   "cell_type": "code",
   "execution_count": 47,
   "metadata": {
    "colab": {
     "base_uri": "https://localhost:8080/"
    },
    "id": "dJFQ287K2zG2",
    "outputId": "d83eeeeb-2a2c-4496-d91d-e8f8f19da9cb"
   },
   "outputs": [
    {
     "name": "stdout",
     "output_type": "stream",
     "text": [
      "Results summary\n",
      "Results in project/nyc Project\n",
      "Showing 10 best trials\n",
      "<keras_tuner.engine.objective.Objective object at 0x7fef45d08b50>\n",
      "Trial summary\n",
      "Hyperparameters:\n",
      "num_layers: 5\n",
      "units_0: 128\n",
      "units_1: 128\n",
      "learning_rate: 0.001\n",
      "units_2: 192\n",
      "units_3: 320\n",
      "units_4: 224\n",
      "units_5: 448\n",
      "units_6: 32\n",
      "units_7: 384\n",
      "units_8: 160\n",
      "units_9: 352\n",
      "Score: 1.5258374214172363\n",
      "Trial summary\n",
      "Hyperparameters:\n",
      "num_layers: 19\n",
      "units_0: 480\n",
      "units_1: 416\n",
      "learning_rate: 0.0001\n",
      "units_2: 288\n",
      "units_3: 192\n",
      "units_4: 288\n",
      "units_5: 160\n",
      "units_6: 384\n",
      "units_7: 352\n",
      "units_8: 64\n",
      "units_9: 352\n",
      "units_10: 32\n",
      "units_11: 32\n",
      "units_12: 32\n",
      "units_13: 32\n",
      "units_14: 32\n",
      "units_15: 32\n",
      "units_16: 32\n",
      "units_17: 32\n",
      "units_18: 32\n",
      "Score: 2.8036012649536133\n",
      "Trial summary\n",
      "Hyperparameters:\n",
      "num_layers: 15\n",
      "units_0: 192\n",
      "units_1: 384\n",
      "learning_rate: 0.0001\n",
      "units_2: 160\n",
      "units_3: 384\n",
      "units_4: 128\n",
      "units_5: 224\n",
      "units_6: 128\n",
      "units_7: 128\n",
      "units_8: 448\n",
      "units_9: 352\n",
      "units_10: 288\n",
      "units_11: 384\n",
      "units_12: 224\n",
      "units_13: 192\n",
      "units_14: 128\n",
      "units_15: 256\n",
      "units_16: 416\n",
      "units_17: 96\n",
      "units_18: 512\n",
      "Score: 2.912412405014038\n",
      "Trial summary\n",
      "Hyperparameters:\n",
      "num_layers: 14\n",
      "units_0: 224\n",
      "units_1: 224\n",
      "learning_rate: 0.01\n",
      "units_2: 192\n",
      "units_3: 448\n",
      "units_4: 192\n",
      "units_5: 224\n",
      "units_6: 32\n",
      "units_7: 384\n",
      "units_8: 128\n",
      "units_9: 96\n",
      "units_10: 224\n",
      "units_11: 96\n",
      "units_12: 480\n",
      "units_13: 448\n",
      "units_14: 480\n",
      "units_15: 128\n",
      "units_16: 96\n",
      "units_17: 128\n",
      "units_18: 448\n",
      "Score: 2.951312303543091\n",
      "Trial summary\n",
      "Hyperparameters:\n",
      "num_layers: 10\n",
      "units_0: 288\n",
      "units_1: 416\n",
      "learning_rate: 0.01\n",
      "units_2: 32\n",
      "units_3: 32\n",
      "units_4: 32\n",
      "units_5: 32\n",
      "units_6: 32\n",
      "units_7: 32\n",
      "units_8: 32\n",
      "units_9: 32\n",
      "Score: 3.2830560207366943\n"
     ]
    }
   ],
   "source": [
    "tuner.results_summary()"
   ]
  },
  {
   "cell_type": "code",
   "execution_count": 8,
   "metadata": {
    "id": "gZBWeKtU2zEE"
   },
   "outputs": [],
   "source": [
    "from tensorflow.keras import Sequential\n",
    "from tensorflow.keras.layers import Dense"
   ]
  },
  {
   "cell_type": "code",
   "execution_count": 9,
   "metadata": {
    "colab": {
     "base_uri": "https://localhost:8080/"
    },
    "id": "t7NO25oEYcDe",
    "outputId": "31f49573-c4ed-498e-8c6a-fe7bc3203c6c"
   },
   "outputs": [
    {
     "data": {
      "text/plain": [
       "11"
      ]
     },
     "execution_count": 9,
     "metadata": {},
     "output_type": "execute_result"
    }
   ],
   "source": [
    "n_features = X_train.shape[1]\n",
    "n_features"
   ]
  },
  {
   "cell_type": "code",
   "execution_count": 10,
   "metadata": {
    "id": "R-WHUb5eYcBL"
   },
   "outputs": [],
   "source": [
    "model1 = Sequential()\n",
    "model1.add(Dense(11, activation='relu', input_shape=(n_features,)))\n",
    "model1.add(Dense(128, activation='relu'))\n",
    "model1.add(Dense(128, activation='relu'))\n",
    "model1.add(Dense(192, activation='relu'))\n",
    "model1.add(Dense(320, activation='relu'))\n",
    "model1.add(Dense(224, activation='relu'))\n",
    "model1.add(Dense(448, activation='relu'))\n",
    "model1.add(Dense(32, activation='relu'))\n",
    "model1.add(Dense(384, activation='relu'))\n",
    "model1.add(Dense(160, activation='relu'))\n",
    "model1.add(Dense(352, activation='relu'))\n",
    "model1.add(Dense(1, activation='linear'))"
   ]
  },
  {
   "cell_type": "code",
   "execution_count": 11,
   "metadata": {
    "colab": {
     "base_uri": "https://localhost:8080/"
    },
    "id": "jnoV7xTiYb-h",
    "outputId": "6e47f484-0ec6-4a0c-abd2-18a26f326830"
   },
   "outputs": [
    {
     "name": "stdout",
     "output_type": "stream",
     "text": [
      "Model: \"sequential\"\n",
      "_________________________________________________________________\n",
      " Layer (type)                Output Shape              Param #   \n",
      "=================================================================\n",
      " dense (Dense)               (None, 128)               1536      \n",
      "                                                                 \n",
      " dense_1 (Dense)             (None, 128)               16512     \n",
      "                                                                 \n",
      " dense_2 (Dense)             (None, 192)               24768     \n",
      "                                                                 \n",
      " dense_3 (Dense)             (None, 320)               61760     \n",
      "                                                                 \n",
      " dense_4 (Dense)             (None, 224)               71904     \n",
      "                                                                 \n",
      " dense_5 (Dense)             (None, 448)               100800    \n",
      "                                                                 \n",
      " dense_6 (Dense)             (None, 32)                14368     \n",
      "                                                                 \n",
      " dense_7 (Dense)             (None, 384)               12672     \n",
      "                                                                 \n",
      " dense_8 (Dense)             (None, 160)               61600     \n",
      "                                                                 \n",
      " dense_9 (Dense)             (None, 352)               56672     \n",
      "                                                                 \n",
      " dense_10 (Dense)            (None, 1)                 353       \n",
      "                                                                 \n",
      "=================================================================\n",
      "Total params: 422,945\n",
      "Trainable params: 422,945\n",
      "Non-trainable params: 0\n",
      "_________________________________________________________________\n"
     ]
    }
   ],
   "source": [
    "model1.summary()"
   ]
  },
  {
   "cell_type": "code",
   "execution_count": 12,
   "metadata": {
    "id": "afFEYpsbYb7r"
   },
   "outputs": [],
   "source": [
    "model1.compile(optimizer='adam', loss='mse', metrics=['mae'])"
   ]
  },
  {
   "cell_type": "code",
   "execution_count": null,
   "metadata": {
    "id": "REMmtXkaYoO8"
   },
   "outputs": [],
   "source": [
    "from tensorflow.keras.callbacks import EarlyStopping\n",
    "es = EarlyStopping(monitor='val_loss', mode='min', verbose=1, patience=30)"
   ]
  },
  {
   "cell_type": "code",
   "execution_count": 13,
   "metadata": {
    "colab": {
     "base_uri": "https://localhost:8080/"
    },
    "id": "ZMW5_LY0YoMJ",
    "outputId": "69ecd82b-3e77-4223-f443-73be0a50b27b"
   },
   "outputs": [
    {
     "name": "stdout",
     "output_type": "stream",
     "text": [
      "Epoch 1/10\n",
      "98343/98343 [==============================] - 882s 9ms/step - loss: 6.3804 - mae: 1.8098 - val_loss: 6.0004 - val_mae: 1.7070\n",
      "Epoch 2/10\n",
      "98343/98343 [==============================] - 885s 9ms/step - loss: 5.8857 - mae: 1.7398 - val_loss: 6.2663 - val_mae: 1.7168\n",
      "Epoch 3/10\n",
      "98343/98343 [==============================] - 880s 9ms/step - loss: 5.8229 - mae: 1.7127 - val_loss: 5.6970 - val_mae: 1.7626\n",
      "Epoch 4/10\n",
      "98343/98343 [==============================] - 767s 8ms/step - loss: 5.6682 - mae: 1.6991 - val_loss: 5.5468 - val_mae: 1.6464\n",
      "Epoch 5/10\n",
      "98343/98343 [==============================] - 714s 7ms/step - loss: 5.6446 - mae: 1.6932 - val_loss: 5.6453 - val_mae: 1.6491\n",
      "Epoch 6/10\n",
      "98343/98343 [==============================] - 784s 8ms/step - loss: 5.6282 - mae: 1.6883 - val_loss: 5.5199 - val_mae: 1.6425\n",
      "Epoch 7/10\n",
      "98343/98343 [==============================] - 798s 8ms/step - loss: 5.6112 - mae: 1.6862 - val_loss: 5.5306 - val_mae: 1.6483\n",
      "Epoch 8/10\n",
      "98343/98343 [==============================] - 842s 9ms/step - loss: 5.5977 - mae: 1.6832 - val_loss: 5.6512 - val_mae: 1.7503\n",
      "Epoch 9/10\n",
      "98343/98343 [==============================] - 981s 10ms/step - loss: 5.5909 - mae: 1.6813 - val_loss: 5.5771 - val_mae: 1.7232\n",
      "Epoch 10/10\n",
      "98343/98343 [==============================] - 1042s 11ms/step - loss: 5.5769 - mae: 1.6791 - val_loss: 5.5768 - val_mae: 1.7289\n"
     ]
    }
   ],
   "source": [
    "history = model1.fit(X_train, Y_train, epochs=10, batch_size=32, validation_split=0.3, verbose=1)#,callbacks=[es])"
   ]
  },
  {
   "cell_type": "code",
   "execution_count": 14,
   "metadata": {
    "id": "XXaxLPTzb1oy"
   },
   "outputs": [],
   "source": [
    "from sklearn.metrics import r2_score,mean_squared_error,mean_absolute_error\n",
    "def eval_fun(model,X_train,Y_train,Y_test,X_test):\n",
    "\n",
    "    Y_pred_train = model.predict(X_train)\n",
    "    Y_pred_test = model.predict(X_test)\n",
    "    \n",
    "    r2_train = r2_score(Y_train,Y_pred_train)\n",
    "    mse_train = mean_squared_error(Y_train,Y_pred_train)\n",
    "    mae_train = mean_absolute_error(Y_train,Y_pred_train)\n",
    "    print(f\"r2_train_score ==> {r2_train} , mse_train_score ==> {mse_train} , mae_train_score ==> {mae_train}\")\n",
    "  \n",
    "    r2_test = r2_score(Y_test,Y_pred_test)\n",
    "    mse_test = mean_squared_error(Y_test,Y_pred_test)\n",
    "    mae_test = mean_absolute_error(Y_test,Y_pred_test)\n",
    "    print(f\"r2_test_score ==> {r2_test} , mse_test_score ==> {mse_test} , mae_test_score ==> {mae_test}\")"
   ]
  },
  {
   "cell_type": "code",
   "execution_count": 15,
   "metadata": {
    "colab": {
     "base_uri": "https://localhost:8080/"
    },
    "id": "EqhgQyYFYoJ8",
    "outputId": "35428def-9c52-4d30-bfc8-6b0a528df450"
   },
   "outputs": [
    {
     "name": "stdout",
     "output_type": "stream",
     "text": [
      "140489/140489 [==============================] - 483s 3ms/step\n",
      "60210/60210 [==============================] - 532s 9ms/step\n",
      "r2_train_score ==> 0.6951253645021067 , mse_train_score ==> 5.593869222629566 , mae_train_score ==> 1.7316769581589837\n",
      "r2_test_score ==> 0.6951710944770294 , mse_test_score ==> 5.602755298574723 , mae_test_score ==> 1.7322260146082025\n"
     ]
    }
   ],
   "source": [
    "eval_fun(model1,X_train,Y_train,Y_test,X_test)"
   ]
  },
  {
   "cell_type": "code",
   "execution_count": 16,
   "metadata": {
    "id": "HE0oZ1Z0YoFq"
   },
   "outputs": [
    {
     "name": "stdout",
     "output_type": "stream",
     "text": [
      "Test Accuracy: 1.732\n"
     ]
    }
   ],
   "source": [
    "loss, acc = model1.evaluate(X_test, Y_test, verbose=0)\n",
    "print('Test Accuracy: %.3f' % acc)"
   ]
  },
  {
   "cell_type": "code",
   "execution_count": 19,
   "metadata": {
    "id": "WlMsngizY-eU"
   },
   "outputs": [
    {
     "data": {
      "text/plain": [
       "[<matplotlib.lines.Line2D at 0x2669a2724d0>]"
      ]
     },
     "execution_count": 19,
     "metadata": {},
     "output_type": "execute_result"
    },
    {
     "data": {
      "image/png": "[encoded data removed]",
      "text/plain": [
       "<Figure size 640x480 with 1 Axes>"
      ]
     },
     "metadata": {},
     "output_type": "display_data"
    }
   ],
   "source": [
    "import matplotlib.pyplot as plt\n",
    "plt.plot(history.history['loss'])\n",
    "plt.plot(history.history['val_loss'])"
   ]
  }
 ],
 "metadata": {
  "accelerator": "GPU",
  "colab": {
   "collapsed_sections": [],
   "provenance": []
  },
  "kernelspec": {
   "display_name": "Python 3 (ipykernel)",
   "language": "python",
   "name": "python3"
  },
  "language_info": {
   "codemirror_mode": {
    "name": "ipython",
    "version": 3
   },
   "file_extension": ".py",
   "mimetype": "text/x-python",
   "name": "python",
   "nbconvert_exporter": "python",
   "pygments_lexer": "ipython3",
   "version": "3.10.5"
  }
 },
 "nbformat": 4,
 "nbformat_minor": 1
}
