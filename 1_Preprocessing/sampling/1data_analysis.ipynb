{
 "cells": [
  {
   "cell_type": "markdown",
   "metadata": {},
   "source": [
    "## Import Libraries"
   ]
  },
  {
   "cell_type": "code",
   "execution_count": 1,
   "metadata": {},
   "outputs": [],
   "source": [
    "import numpy as np \n",
    "import pandas as pd "
   ]
  },
  {
   "cell_type": "markdown",
   "metadata": {},
   "source": [
    "## Load the dataset"
   ]
  },
  {
   "cell_type": "code",
   "execution_count": 2,
   "metadata": {},
   "outputs": [],
   "source": [
    "nyct_data  = pd.read_csv('train.csv',nrows=20000000)"
   ]
  },
  {
   "cell_type": "markdown",
   "metadata": {},
   "source": [
    "## Analysis and Understanding dataset"
   ]
  },
  {
   "cell_type": "markdown",
   "metadata": {},
   "source": [
    "### Attributes in DataSet"
   ]
  },
  {
   "cell_type": "code",
   "execution_count": 3,
   "metadata": {},
   "outputs": [
    {
     "data": {
      "text/plain": [
       "key                   object\n",
       "fare_amount          float64\n",
       "pickup_datetime       object\n",
       "pickup_longitude     float64\n",
       "pickup_latitude      float64\n",
       "dropoff_longitude    float64\n",
       "dropoff_latitude     float64\n",
       "passenger_count        int64\n",
       "dtype: object"
      ]
     },
     "execution_count": 3,
     "metadata": {},
     "output_type": "execute_result"
    }
   ],
   "source": [
    "nyct_data.dtypes"
   ]
  },
  {
   "cell_type": "code",
   "execution_count": 4,
   "metadata": {
    "scrolled": true
   },
   "outputs": [
    {
     "data": {
      "text/html": [
       "<div>\n",
       "<style scoped>\n",
       "    .dataframe tbody tr th:only-of-type {\n",
       "        vertical-align: middle;\n",
       "    }\n",
       "\n",
       "    .dataframe tbody tr th {\n",
       "        vertical-align: top;\n",
       "    }\n",
       "\n",
       "    .dataframe thead th {\n",
       "        text-align: right;\n",
       "    }\n",
       "</style>\n",
       "<table border=\"1\" class=\"dataframe\">\n",
       "  <thead>\n",
       "    <tr style=\"text-align: right;\">\n",
       "      <th></th>\n",
       "      <th>fare_amount</th>\n",
       "      <th>pickup_longitude</th>\n",
       "      <th>pickup_latitude</th>\n",
       "      <th>dropoff_longitude</th>\n",
       "      <th>dropoff_latitude</th>\n",
       "      <th>passenger_count</th>\n",
       "    </tr>\n",
       "  </thead>\n",
       "  <tbody>\n",
       "    <tr>\n",
       "      <th>count</th>\n",
       "      <td>20000000.00000</td>\n",
       "      <td>20000000.00000</td>\n",
       "      <td>20000000.00000</td>\n",
       "      <td>19999861.00000</td>\n",
       "      <td>19999861.00000</td>\n",
       "      <td>20000000.00000</td>\n",
       "    </tr>\n",
       "    <tr>\n",
       "      <th>mean</th>\n",
       "      <td>11.34298</td>\n",
       "      <td>-72.51140</td>\n",
       "      <td>39.92070</td>\n",
       "      <td>-72.51060</td>\n",
       "      <td>39.91950</td>\n",
       "      <td>1.68531</td>\n",
       "    </tr>\n",
       "    <tr>\n",
       "      <th>std</th>\n",
       "      <td>16.89916</td>\n",
       "      <td>12.98955</td>\n",
       "      <td>9.38893</td>\n",
       "      <td>12.90617</td>\n",
       "      <td>9.57004</td>\n",
       "      <td>1.32118</td>\n",
       "    </tr>\n",
       "    <tr>\n",
       "      <th>min</th>\n",
       "      <td>-107.75000</td>\n",
       "      <td>-3439.24506</td>\n",
       "      <td>-3492.26377</td>\n",
       "      <td>-3442.02457</td>\n",
       "      <td>-3493.65185</td>\n",
       "      <td>0.00000</td>\n",
       "    </tr>\n",
       "    <tr>\n",
       "      <th>25%</th>\n",
       "      <td>6.00000</td>\n",
       "      <td>-73.99207</td>\n",
       "      <td>40.73491</td>\n",
       "      <td>-73.99140</td>\n",
       "      <td>40.73403</td>\n",
       "      <td>1.00000</td>\n",
       "    </tr>\n",
       "    <tr>\n",
       "      <th>50%</th>\n",
       "      <td>8.50000</td>\n",
       "      <td>-73.98181</td>\n",
       "      <td>40.75263</td>\n",
       "      <td>-73.98016</td>\n",
       "      <td>40.75315</td>\n",
       "      <td>1.00000</td>\n",
       "    </tr>\n",
       "    <tr>\n",
       "      <th>75%</th>\n",
       "      <td>12.50000</td>\n",
       "      <td>-73.96709</td>\n",
       "      <td>40.76712</td>\n",
       "      <td>-73.96368</td>\n",
       "      <td>40.76809</td>\n",
       "      <td>2.00000</td>\n",
       "    </tr>\n",
       "    <tr>\n",
       "      <th>max</th>\n",
       "      <td>61550.86000</td>\n",
       "      <td>3457.62568</td>\n",
       "      <td>3406.00839</td>\n",
       "      <td>3457.62235</td>\n",
       "      <td>3400.39160</td>\n",
       "      <td>208.00000</td>\n",
       "    </tr>\n",
       "  </tbody>\n",
       "</table>\n",
       "</div>"
      ],
      "text/plain": [
       "          fare_amount pickup_longitude pickup_latitude dropoff_longitude  \\\n",
       "count  20000000.00000   20000000.00000  20000000.00000    19999861.00000   \n",
       "mean         11.34298        -72.51140        39.92070         -72.51060   \n",
       "std          16.89916         12.98955         9.38893          12.90617   \n",
       "min        -107.75000      -3439.24506     -3492.26377       -3442.02457   \n",
       "25%           6.00000        -73.99207        40.73491         -73.99140   \n",
       "50%           8.50000        -73.98181        40.75263         -73.98016   \n",
       "75%          12.50000        -73.96709        40.76712         -73.96368   \n",
       "max       61550.86000       3457.62568      3406.00839        3457.62235   \n",
       "\n",
       "      dropoff_latitude passenger_count  \n",
       "count   19999861.00000  20000000.00000  \n",
       "mean          39.91950         1.68531  \n",
       "std            9.57004         1.32118  \n",
       "min        -3493.65185         0.00000  \n",
       "25%           40.73403         1.00000  \n",
       "50%           40.75315         1.00000  \n",
       "75%           40.76809         2.00000  \n",
       "max         3400.39160       208.00000  "
      ]
     },
     "execution_count": 4,
     "metadata": {},
     "output_type": "execute_result"
    }
   ],
   "source": [
    "nyct_data.describe().applymap(lambda x: f\"{x:0.5f}\")"
   ]
  },
  {
   "cell_type": "markdown",
   "metadata": {},
   "source": [
    "### Unknown values in Dataset"
   ]
  },
  {
   "cell_type": "code",
   "execution_count": 5,
   "metadata": {},
   "outputs": [
    {
     "data": {
      "text/plain": [
       "key                    0\n",
       "fare_amount            0\n",
       "pickup_datetime        0\n",
       "pickup_longitude       0\n",
       "pickup_latitude        0\n",
       "dropoff_longitude    139\n",
       "dropoff_latitude     139\n",
       "passenger_count        0\n",
       "dtype: int64"
      ]
     },
     "execution_count": 5,
     "metadata": {},
     "output_type": "execute_result"
    }
   ],
   "source": [
    "nyct_data.isna().sum()"
   ]
  },
  {
   "cell_type": "markdown",
   "metadata": {},
   "source": [
    "### ALL rows contain NULL values"
   ]
  },
  {
   "cell_type": "code",
   "execution_count": 6,
   "metadata": {},
   "outputs": [],
   "source": [
    "columns=['fare_amount','pickup_longitude','pickup_latitude','dropoff_longitude','dropoff_latitude','passenger_count']\n",
    "#nyct_data[nyct_data[columns].isna().all(axis=1)]"
   ]
  },
  {
   "cell_type": "code",
   "execution_count": 10,
   "metadata": {},
   "outputs": [
    {
     "name": "stdout",
     "output_type": "stream",
     "text": [
      "Total number of row which contains all na values :  0\n"
     ]
    }
   ],
   "source": [
    "print(\"Total number of row which contains all na values : \",nyct_data[nyct_data[columns].isna()]['fare_amount'].count())"
   ]
  },
  {
   "cell_type": "markdown",
   "metadata": {},
   "source": [
    "### ALL rows contain Zeros Values"
   ]
  },
  {
   "cell_type": "code",
   "execution_count": 9,
   "metadata": {},
   "outputs": [
    {
     "name": "stdout",
     "output_type": "stream",
     "text": [
      "Total number of row which contains all Zeroes values :  525\n"
     ]
    }
   ],
   "source": [
    "print(\"Total number of row which contains all Zeroes values : \",nyct_data[nyct_data[columns]==0]['fare_amount'].count())"
   ]
  },
  {
   "cell_type": "markdown",
   "metadata": {},
   "source": [
    "### Invalid Fare Amount"
   ]
  },
  {
   "cell_type": "code",
   "execution_count": 11,
   "metadata": {},
   "outputs": [
    {
     "name": "stdout",
     "output_type": "stream",
     "text": [
      "                                   key  fare_amount          pickup_datetime  \\\n",
      "2039       2010-03-09 23:37:10.0000005         -2.9  2010-03-09 23:37:10 UTC   \n",
      "2486       2015-03-22 05:14:27.0000001         -2.5  2015-03-22 05:14:27 UTC   \n",
      "10002      2010-02-15 14:26:01.0000003          0.0  2010-02-15 14:26:01 UTC   \n",
      "13032      2013-08-30 08:57:10.0000002         -3.0  2013-08-30 08:57:10 UTC   \n",
      "27891     2015-05-15 21:40:28.00000010          0.0  2015-05-15 21:40:28 UTC   \n",
      "...                                ...          ...                      ...   \n",
      "19970522   2013-08-19 03:10:10.0000001         -2.5  2013-08-19 03:10:10 UTC   \n",
      "19971587   2015-02-21 11:59:26.0000002          0.0  2015-02-21 11:59:26 UTC   \n",
      "19971904   2010-02-15 17:02:14.0000003          0.0  2010-02-15 17:02:14 UTC   \n",
      "19979348   2015-05-24 19:18:38.0000003         -2.5  2015-05-24 19:18:38 UTC   \n",
      "19994455   2010-03-12 20:21:32.0000006          0.0  2010-03-12 20:21:32 UTC   \n",
      "\n",
      "          pickup_longitude  pickup_latitude  dropoff_longitude  \\\n",
      "2039            -73.789450        40.643498         -73.788665   \n",
      "2486            -74.000031        40.720631         -73.999809   \n",
      "10002           -73.987115        40.738808         -74.005911   \n",
      "13032           -73.995062        40.740755         -73.995885   \n",
      "27891           -74.077927        40.805714         -74.077919   \n",
      "...                    ...              ...                ...   \n",
      "19970522        -73.937862        40.757852         -73.937862   \n",
      "19971587        -73.937630        40.758221         -73.937630   \n",
      "19971904        -73.808794        40.689508         -73.972591   \n",
      "19979348        -73.963982        40.761410         -73.965370   \n",
      "19994455        -73.806024        40.651991         -73.812034   \n",
      "\n",
      "          dropoff_latitude  passenger_count  \n",
      "2039             40.641952                1  \n",
      "2486             40.720539                1  \n",
      "10002            40.713960                1  \n",
      "13032            40.741357                4  \n",
      "27891            40.805721                1  \n",
      "...                    ...              ...  \n",
      "19970522         40.757852                1  \n",
      "19971587         40.758221                1  \n",
      "19971904         40.757429                1  \n",
      "19979348         40.761791                1  \n",
      "19994455         40.694406                1  \n",
      "\n",
      "[1357 rows x 8 columns]\n",
      "Total fare amount is less than equal to zeros value :  1357\n"
     ]
    }
   ],
   "source": [
    "#Fare amount zeros\n",
    "print(nyct_data[nyct_data['fare_amount']<=0])\n",
    "print(\"Total fare amount is less than equal to zeros value : \",nyct_data[nyct_data['fare_amount']<=0].count()['fare_amount'])"
   ]
  },
  {
   "cell_type": "markdown",
   "metadata": {},
   "source": [
    "### Invalid Location"
   ]
  },
  {
   "cell_type": "markdown",
   "metadata": {},
   "source": [
    "#### Invalid Pickup points"
   ]
  },
  {
   "cell_type": "code",
   "execution_count": 12,
   "metadata": {},
   "outputs": [
    {
     "name": "stdout",
     "output_type": "stream",
     "text": [
      "Invalid pickup point (0,0) :  381024\n"
     ]
    }
   ],
   "source": [
    "condition_1=(nyct_data['pickup_longitude']==0) | (nyct_data['pickup_latitude']==0)\n",
    "print(\"Invalid pickup point (0,0) : \",nyct_data[condition_1].count()['key'])"
   ]
  },
  {
   "cell_type": "markdown",
   "metadata": {},
   "source": [
    "#### Invalid Dropoff point"
   ]
  },
  {
   "cell_type": "code",
   "execution_count": 13,
   "metadata": {},
   "outputs": [
    {
     "name": "stdout",
     "output_type": "stream",
     "text": [
      "Invalid dropoff point (0,0) :  380073\n"
     ]
    }
   ],
   "source": [
    "condition_2=(nyct_data['dropoff_longitude']==0) | (nyct_data['dropoff_latitude']==0)\n",
    "print(\"Invalid dropoff point (0,0) : \",nyct_data[condition_2].count()['key'])"
   ]
  },
  {
   "cell_type": "markdown",
   "metadata": {},
   "source": [
    "### Invalid Passenger "
   ]
  },
  {
   "cell_type": "code",
   "execution_count": 17,
   "metadata": {},
   "outputs": [
    {
     "name": "stdout",
     "output_type": "stream",
     "text": [
      "Total of Invalid passenger counts :  70625\n"
     ]
    }
   ],
   "source": [
    "condition_5 = (nyct_data[\"passenger_count\"] <=0 ) | (nyct_data[\"passenger_count\"] >6) \n",
    "#print(nyct_data[condition_5])\n",
    "print(\"Total of Invalid passenger counts : \",nyct_data[condition_5]['key'].count())"
   ]
  }
 ],
 "metadata": {
  "kernelspec": {
   "display_name": "Python 3 (ipykernel)",
   "language": "python",
   "name": "python3"
  },
  "language_info": {
   "codemirror_mode": {
    "name": "ipython",
    "version": 3
   },
   "file_extension": ".py",
   "mimetype": "text/x-python",
   "name": "python",
   "nbconvert_exporter": "python",
   "pygments_lexer": "ipython3",
   "version": "3.10.5"
  },
  "vscode": {
   "interpreter": {
    "hash": "36a20624bae6956a6064e67610dbd39318b0a88fd57503e729bd6efeb0477185"
   }
  }
 },
 "nbformat": 4,
 "nbformat_minor": 2
}
