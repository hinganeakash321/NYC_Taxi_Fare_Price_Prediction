{
 "cells": [
  {
   "cell_type": "markdown",
   "metadata": {
    "id": "4t1wDt-UjmwE"
   },
   "source": [
    "###  Load the libraries"
   ]
  },
  {
   "cell_type": "code",
   "execution_count": 2,
   "metadata": {
    "id": "E-ynbiowiqJ_"
   },
   "outputs": [],
   "source": [
    "import pandas as pd\n",
    "import numpy as np"
   ]
  },
  {
   "cell_type": "markdown",
   "metadata": {
    "id": "oLaKjtQJV3a8"
   },
   "source": [
    "### Load the data"
   ]
  },
  {
   "cell_type": "code",
   "execution_count": 3,
   "metadata": {
    "id": "KyCYMsobjigr"
   },
   "outputs": [],
   "source": [
    "source_path = r\"train.csv\"\n",
    "splited_path = \"splited_data\\\\\"\n",
    "nyct_data  = pd.read_csv(source_path,usecols = ['fare_amount','pickup_datetime', \"pickup_longitude\",'pickup_latitude','dropoff_longitude','dropoff_latitude','passenger_count'])"
   ]
  },
  {
   "cell_type": "code",
   "execution_count": 4,
   "metadata": {
    "colab": {
     "base_uri": "https://localhost:8080/",
     "height": 206
    },
    "executionInfo": {
     "elapsed": 537,
     "status": "ok",
     "timestamp": 1658159999042,
     "user": {
      "displayName": "Harshita Paliwal",
      "userId": "00427139566483000917"
     },
     "user_tz": -330
    },
    "id": "vjcM78-CjiRk",
    "outputId": "cc183f50-dc96-42f9-e9c0-bac4ef57335e"
   },
   "outputs": [
    {
     "data": {
      "text/html": [
       "<div>\n",
       "<style scoped>\n",
       "    .dataframe tbody tr th:only-of-type {\n",
       "        vertical-align: middle;\n",
       "    }\n",
       "\n",
       "    .dataframe tbody tr th {\n",
       "        vertical-align: top;\n",
       "    }\n",
       "\n",
       "    .dataframe thead th {\n",
       "        text-align: right;\n",
       "    }\n",
       "</style>\n",
       "<table border=\"1\" class=\"dataframe\">\n",
       "  <thead>\n",
       "    <tr style=\"text-align: right;\">\n",
       "      <th></th>\n",
       "      <th>fare_amount</th>\n",
       "      <th>pickup_datetime</th>\n",
       "      <th>pickup_longitude</th>\n",
       "      <th>pickup_latitude</th>\n",
       "      <th>dropoff_longitude</th>\n",
       "      <th>dropoff_latitude</th>\n",
       "      <th>passenger_count</th>\n",
       "    </tr>\n",
       "  </thead>\n",
       "  <tbody>\n",
       "    <tr>\n",
       "      <th>0</th>\n",
       "      <td>4.5</td>\n",
       "      <td>2009-06-15 17:26:21 UTC</td>\n",
       "      <td>-73.844311</td>\n",
       "      <td>40.721319</td>\n",
       "      <td>-73.841610</td>\n",
       "      <td>40.712278</td>\n",
       "      <td>1</td>\n",
       "    </tr>\n",
       "    <tr>\n",
       "      <th>1</th>\n",
       "      <td>16.9</td>\n",
       "      <td>2010-01-05 16:52:16 UTC</td>\n",
       "      <td>-74.016048</td>\n",
       "      <td>40.711303</td>\n",
       "      <td>-73.979268</td>\n",
       "      <td>40.782004</td>\n",
       "      <td>1</td>\n",
       "    </tr>\n",
       "    <tr>\n",
       "      <th>2</th>\n",
       "      <td>5.7</td>\n",
       "      <td>2011-08-18 00:35:00 UTC</td>\n",
       "      <td>-73.982738</td>\n",
       "      <td>40.761270</td>\n",
       "      <td>-73.991242</td>\n",
       "      <td>40.750562</td>\n",
       "      <td>2</td>\n",
       "    </tr>\n",
       "    <tr>\n",
       "      <th>3</th>\n",
       "      <td>7.7</td>\n",
       "      <td>2012-04-21 04:30:42 UTC</td>\n",
       "      <td>-73.987130</td>\n",
       "      <td>40.733143</td>\n",
       "      <td>-73.991567</td>\n",
       "      <td>40.758092</td>\n",
       "      <td>1</td>\n",
       "    </tr>\n",
       "    <tr>\n",
       "      <th>4</th>\n",
       "      <td>5.3</td>\n",
       "      <td>2010-03-09 07:51:00 UTC</td>\n",
       "      <td>-73.968095</td>\n",
       "      <td>40.768008</td>\n",
       "      <td>-73.956655</td>\n",
       "      <td>40.783762</td>\n",
       "      <td>1</td>\n",
       "    </tr>\n",
       "    <tr>\n",
       "      <th>5</th>\n",
       "      <td>12.1</td>\n",
       "      <td>2011-01-06 09:50:45 UTC</td>\n",
       "      <td>-74.000964</td>\n",
       "      <td>40.731630</td>\n",
       "      <td>-73.972892</td>\n",
       "      <td>40.758233</td>\n",
       "      <td>1</td>\n",
       "    </tr>\n",
       "    <tr>\n",
       "      <th>6</th>\n",
       "      <td>7.5</td>\n",
       "      <td>2012-11-20 20:35:00 UTC</td>\n",
       "      <td>-73.980002</td>\n",
       "      <td>40.751662</td>\n",
       "      <td>-73.973802</td>\n",
       "      <td>40.764842</td>\n",
       "      <td>1</td>\n",
       "    </tr>\n",
       "    <tr>\n",
       "      <th>7</th>\n",
       "      <td>16.5</td>\n",
       "      <td>2012-01-04 17:22:00 UTC</td>\n",
       "      <td>-73.951300</td>\n",
       "      <td>40.774138</td>\n",
       "      <td>-73.990095</td>\n",
       "      <td>40.751048</td>\n",
       "      <td>1</td>\n",
       "    </tr>\n",
       "    <tr>\n",
       "      <th>8</th>\n",
       "      <td>9.0</td>\n",
       "      <td>2012-12-03 13:10:00 UTC</td>\n",
       "      <td>-74.006462</td>\n",
       "      <td>40.726713</td>\n",
       "      <td>-73.993078</td>\n",
       "      <td>40.731628</td>\n",
       "      <td>1</td>\n",
       "    </tr>\n",
       "    <tr>\n",
       "      <th>9</th>\n",
       "      <td>8.9</td>\n",
       "      <td>2009-09-02 01:11:00 UTC</td>\n",
       "      <td>-73.980658</td>\n",
       "      <td>40.733873</td>\n",
       "      <td>-73.991540</td>\n",
       "      <td>40.758138</td>\n",
       "      <td>2</td>\n",
       "    </tr>\n",
       "  </tbody>\n",
       "</table>\n",
       "</div>"
      ],
      "text/plain": [
       "   fare_amount          pickup_datetime  pickup_longitude  pickup_latitude  \\\n",
       "0          4.5  2009-06-15 17:26:21 UTC        -73.844311        40.721319   \n",
       "1         16.9  2010-01-05 16:52:16 UTC        -74.016048        40.711303   \n",
       "2          5.7  2011-08-18 00:35:00 UTC        -73.982738        40.761270   \n",
       "3          7.7  2012-04-21 04:30:42 UTC        -73.987130        40.733143   \n",
       "4          5.3  2010-03-09 07:51:00 UTC        -73.968095        40.768008   \n",
       "5         12.1  2011-01-06 09:50:45 UTC        -74.000964        40.731630   \n",
       "6          7.5  2012-11-20 20:35:00 UTC        -73.980002        40.751662   \n",
       "7         16.5  2012-01-04 17:22:00 UTC        -73.951300        40.774138   \n",
       "8          9.0  2012-12-03 13:10:00 UTC        -74.006462        40.726713   \n",
       "9          8.9  2009-09-02 01:11:00 UTC        -73.980658        40.733873   \n",
       "\n",
       "   dropoff_longitude  dropoff_latitude  passenger_count  \n",
       "0         -73.841610         40.712278                1  \n",
       "1         -73.979268         40.782004                1  \n",
       "2         -73.991242         40.750562                2  \n",
       "3         -73.991567         40.758092                1  \n",
       "4         -73.956655         40.783762                1  \n",
       "5         -73.972892         40.758233                1  \n",
       "6         -73.973802         40.764842                1  \n",
       "7         -73.990095         40.751048                1  \n",
       "8         -73.993078         40.731628                1  \n",
       "9         -73.991540         40.758138                2  "
      ]
     },
     "execution_count": 4,
     "metadata": {},
     "output_type": "execute_result"
    }
   ],
   "source": [
    "nyct_data.head(10)"
   ]
  },
  {
   "cell_type": "code",
   "execution_count": 5,
   "metadata": {
    "colab": {
     "base_uri": "https://localhost:8080/"
    },
    "executionInfo": {
     "elapsed": 392,
     "status": "ok",
     "timestamp": 1658160004584,
     "user": {
      "displayName": "Harshita Paliwal",
      "userId": "00427139566483000917"
     },
     "user_tz": -330
    },
    "id": "7iVzOjQOgmb5",
    "outputId": "d5f74696-8626-41b8-8674-0d8b28fda72e"
   },
   "outputs": [
    {
     "data": {
      "text/plain": [
       "(55423856, 7)"
      ]
     },
     "execution_count": 5,
     "metadata": {},
     "output_type": "execute_result"
    }
   ],
   "source": [
    "nyct_data.shape"
   ]
  },
  {
   "cell_type": "markdown",
   "metadata": {
    "id": "o1v7Bq8KWAta"
   },
   "source": [
    "### Correct the data"
   ]
  },
  {
   "cell_type": "code",
   "execution_count": 6,
   "metadata": {
    "id": "mKL5UFMQmWlm"
   },
   "outputs": [],
   "source": [
    "nyct_data['pickup_datetime'] = pd.to_datetime(nyct_data['pickup_datetime'], format='%Y-%m-%d %H:%M:%S UTC')"
   ]
  },
  {
   "cell_type": "markdown",
   "metadata": {
    "id": "_N6ZscUKWFCl"
   },
   "source": [
    "# Split the data"
   ]
  },
  {
   "cell_type": "markdown",
   "metadata": {
    "id": "Lp7GU4qWWNTN"
   },
   "source": [
    "### 2009_Data to CSV"
   ]
  },
  {
   "cell_type": "code",
   "execution_count": 8,
   "metadata": {
    "id": "RqlCcbWWri_D"
   },
   "outputs": [],
   "source": [
    "nyct_data[nyct_data['pickup_datetime'].dt.year == 2009].to_csv(splited_path + \"2009_data.csv\",index=False)"
   ]
  },
  {
   "cell_type": "markdown",
   "metadata": {
    "id": "ndAo7vB-XoEV"
   },
   "source": [
    "### 2010_Data to CSV"
   ]
  },
  {
   "cell_type": "code",
   "execution_count": 9,
   "metadata": {
    "id": "njdsD32SWb1r"
   },
   "outputs": [],
   "source": [
    "nyct_data[nyct_data['pickup_datetime'].dt.year == 2010].to_csv(splited_path + \"2010_data.csv\",index=False)"
   ]
  },
  {
   "cell_type": "markdown",
   "metadata": {
    "id": "ccEO_kRhXqgl"
   },
   "source": [
    "### 2011_Data to CSV"
   ]
  },
  {
   "cell_type": "code",
   "execution_count": 10,
   "metadata": {
    "id": "071O093tWbs1"
   },
   "outputs": [],
   "source": [
    "nyct_data[nyct_data['pickup_datetime'].dt.year == 2011].to_csv(splited_path + \"2011_data.csv\",index=False)"
   ]
  },
  {
   "cell_type": "markdown",
   "metadata": {
    "id": "KhK15inKXsfA"
   },
   "source": [
    "### 2012_Data to CSV"
   ]
  },
  {
   "cell_type": "code",
   "execution_count": 11,
   "metadata": {
    "id": "P_R9mAtwWbkV"
   },
   "outputs": [],
   "source": [
    "nyct_data[nyct_data['pickup_datetime'].dt.year == 2012].to_csv(splited_path + \"2012_data.csv\",index=False)"
   ]
  },
  {
   "cell_type": "markdown",
   "metadata": {
    "id": "yP_vAXjVXuyN"
   },
   "source": [
    "### 2013_Data to CSV"
   ]
  },
  {
   "cell_type": "code",
   "execution_count": 12,
   "metadata": {
    "id": "_BslJ2fIWbeH"
   },
   "outputs": [],
   "source": [
    "nyct_data[nyct_data['pickup_datetime'].dt.year == 2013].to_csv( splited_path + \"2013_data.csv\",index=False)"
   ]
  },
  {
   "cell_type": "markdown",
   "metadata": {
    "id": "yLHZRRGiXxLQ"
   },
   "source": [
    "### 2014_Data to CSV"
   ]
  },
  {
   "cell_type": "code",
   "execution_count": 13,
   "metadata": {
    "id": "3GTqBCG3WqJG"
   },
   "outputs": [],
   "source": [
    "nyct_data[nyct_data['pickup_datetime'].dt.year == 2014].to_csv(splited_path + \"2014_data.csv\",index=False)"
   ]
  },
  {
   "cell_type": "markdown",
   "metadata": {
    "id": "yh7W0rm5EqT4"
   },
   "source": [
    "### 2015_Data to CSV"
   ]
  },
  {
   "cell_type": "code",
   "execution_count": 14,
   "metadata": {
    "id": "qLid4QaAExDn"
   },
   "outputs": [],
   "source": [
    "nyct_data[nyct_data['pickup_datetime'].dt.year == 2015].to_csv(splited_path + \"2015_data.csv\",index=False)"
   ]
  }
 ],
 "metadata": {
  "colab": {
   "collapsed_sections": [],
   "name": "spliting_data.ipynb",
   "provenance": [],
   "toc_visible": true
  },
  "kernelspec": {
   "display_name": "Python 3 (ipykernel)",
   "language": "python",
   "name": "python3"
  },
  "language_info": {
   "codemirror_mode": {
    "name": "ipython",
    "version": 3
   },
   "file_extension": ".py",
   "mimetype": "text/x-python",
   "name": "python",
   "nbconvert_exporter": "python",
   "pygments_lexer": "ipython3",
   "version": "3.10.5"
  },
  "vscode": {
   "interpreter": {
    "hash": "36a20624bae6956a6064e67610dbd39318b0a88fd57503e729bd6efeb0477185"
   }
  }
 },
 "nbformat": 4,
 "nbformat_minor": 1
}
