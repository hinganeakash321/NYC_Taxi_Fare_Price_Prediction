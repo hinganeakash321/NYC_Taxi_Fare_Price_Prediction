{
 "cells": [
  {
   "cell_type": "markdown",
   "metadata": {},
   "source": [
    "## Import Library"
   ]
  },
  {
   "cell_type": "code",
   "execution_count": 2,
   "metadata": {},
   "outputs": [],
   "source": [
    "import pandas as pd\n",
    "import numpy as np\n",
    "import os"
   ]
  },
  {
   "cell_type": "code",
   "execution_count": 3,
   "metadata": {},
   "outputs": [
    {
     "name": "stdout",
     "output_type": "stream",
     "text": [
      "Datasets\\Final-merge-data\n",
      "\n",
      " >> load data of 2009.\n",
      "\n",
      " >> load data of 2010.\n"
     ]
    },
    {
     "name": "stderr",
     "output_type": "stream",
     "text": [
      "C:\\Users\\HP\\AppData\\Local\\Temp\\ipykernel_4332\\2869783068.py:22: FutureWarning: The frame.append method is deprecated and will be removed from pandas in a future version. Use pandas.concat instead.\n",
      "  df = df.append(df1)\n"
     ]
    },
    {
     "name": "stdout",
     "output_type": "stream",
     "text": [
      "2010 merged!!!\n",
      "\n",
      " >> load data of 2011.\n"
     ]
    },
    {
     "name": "stderr",
     "output_type": "stream",
     "text": [
      "C:\\Users\\HP\\AppData\\Local\\Temp\\ipykernel_4332\\2869783068.py:22: FutureWarning: The frame.append method is deprecated and will be removed from pandas in a future version. Use pandas.concat instead.\n",
      "  df = df.append(df1)\n"
     ]
    },
    {
     "name": "stdout",
     "output_type": "stream",
     "text": [
      "2011 merged!!!\n",
      "\n",
      " >> load data of 2012.\n"
     ]
    },
    {
     "name": "stderr",
     "output_type": "stream",
     "text": [
      "C:\\Users\\HP\\AppData\\Local\\Temp\\ipykernel_4332\\2869783068.py:22: FutureWarning: The frame.append method is deprecated and will be removed from pandas in a future version. Use pandas.concat instead.\n",
      "  df = df.append(df1)\n"
     ]
    },
    {
     "name": "stdout",
     "output_type": "stream",
     "text": [
      "2012 merged!!!\n",
      "\n",
      " >> load data of 2013.\n"
     ]
    },
    {
     "name": "stderr",
     "output_type": "stream",
     "text": [
      "C:\\Users\\HP\\AppData\\Local\\Temp\\ipykernel_4332\\2869783068.py:22: FutureWarning: The frame.append method is deprecated and will be removed from pandas in a future version. Use pandas.concat instead.\n",
      "  df = df.append(df1)\n"
     ]
    },
    {
     "name": "stdout",
     "output_type": "stream",
     "text": [
      "2013 merged!!!\n",
      "\n",
      " >> load data of 2014.\n"
     ]
    },
    {
     "name": "stderr",
     "output_type": "stream",
     "text": [
      "C:\\Users\\HP\\AppData\\Local\\Temp\\ipykernel_4332\\2869783068.py:22: FutureWarning: The frame.append method is deprecated and will be removed from pandas in a future version. Use pandas.concat instead.\n",
      "  df = df.append(df1)\n"
     ]
    },
    {
     "name": "stdout",
     "output_type": "stream",
     "text": [
      "2014 merged!!!\n",
      "\n",
      " >> load data of 2015.\n"
     ]
    },
    {
     "name": "stderr",
     "output_type": "stream",
     "text": [
      "C:\\Users\\HP\\AppData\\Local\\Temp\\ipykernel_4332\\2869783068.py:22: FutureWarning: The frame.append method is deprecated and will be removed from pandas in a future version. Use pandas.concat instead.\n",
      "  df = df.append(df1)\n"
     ]
    },
    {
     "name": "stdout",
     "output_type": "stream",
     "text": [
      "2015 merged!!!\n"
     ]
    }
   ],
   "source": [
    "dtype = {'fare_amount':np.float64,'pickup_longitude':np.float64,'pickup_latitude':np.float64,'dropoff_longitude':np.float64,'dropoff_latitude':np.float64,'passenger_count':np.int8}\n",
    "\n",
    "# directory\n",
    "parent_dir = \"Datasets\\\\Sample_Datasets\"\n",
    "\n",
    "new_dir=\"Final-merge-data\"\n",
    "\n",
    "final=os.path.join(\"Datasets\",new_dir)\n",
    "print(final)\n",
    "if not(os.path.exists(final)):\n",
    "    os.mkdir(final)\n",
    "\n",
    "try :    \n",
    "    years=[2009,2010,2011,2012,2013,2014,2015]\n",
    "    df=None\n",
    "    for yy in years:\n",
    "        print(f\"\\n >> load data of {yy}.\")\n",
    "        file=parent_dir+\"\\\\\"+f\"Sample_dataset_of_{yy}.csv\"\n",
    "        # load data\n",
    "        if df is not None:\n",
    "            df1 =  pd.read_csv(file,dtype=dtype)\n",
    "            df = df.append(df1)\n",
    "            del df1\n",
    "            print(f\"{yy} merged!!!\")\n",
    "            continue\n",
    "        df=pd.read_csv(file,dtype=dtype)\n",
    "        \n",
    "    file=final+\"\\\\\"+f\"finalDataset_raw.csv\"\n",
    "        # store Final merged data\n",
    "    df.to_csv(file,index=False)\n",
    "except Exception as error:\n",
    "    print(\"\\n Error : \",error)\n",
    "\n",
    "\n",
    "\n",
    "\n"
   ]
  }
 ],
 "metadata": {
  "kernelspec": {
   "display_name": "Python 3 (ipykernel)",
   "language": "python",
   "name": "python3"
  },
  "language_info": {
   "codemirror_mode": {
    "name": "ipython",
    "version": 3
   },
   "file_extension": ".py",
   "mimetype": "text/x-python",
   "name": "python",
   "nbconvert_exporter": "python",
   "pygments_lexer": "ipython3",
   "version": "3.10.5"
  },
  "vscode": {
   "interpreter": {
    "hash": "36a20624bae6956a6064e67610dbd39318b0a88fd57503e729bd6efeb0477185"
   }
  }
 },
 "nbformat": 4,
 "nbformat_minor": 2
}
