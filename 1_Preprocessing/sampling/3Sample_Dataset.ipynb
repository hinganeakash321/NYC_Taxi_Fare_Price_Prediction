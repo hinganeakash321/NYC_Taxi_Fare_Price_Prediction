{
 "cells": [
  {
   "cell_type": "markdown",
   "metadata": {},
   "source": [
    "### import "
   ]
  },
  {
   "cell_type": "code",
   "execution_count": 1,
   "metadata": {},
   "outputs": [],
   "source": [
    "import numpy as np\n",
    "import pandas as pd\n",
    "import os"
   ]
  },
  {
   "cell_type": "code",
   "execution_count": 2,
   "metadata": {},
   "outputs": [
    {
     "name": "stdout",
     "output_type": "stream",
     "text": [
      "Datasets\\Sample_Datasets\n",
      "\n",
      " >> Created sample dataset of 2009.\n",
      "\n",
      " >> Created sample dataset of 2010.\n",
      "\n",
      " >> Created sample dataset of 2011.\n",
      "\n",
      " >> Created sample dataset of 2012.\n",
      "\n",
      " >> Created sample dataset of 2013.\n",
      "\n",
      " >> Created sample dataset of 2014.\n",
      "\n",
      " >> Created sample dataset of 2015.\n"
     ]
    }
   ],
   "source": [
    "parent_dir = \"Datasets\"\n",
    "dataset_dir=f\"Datasets\\\\splited_data\"\n",
    "new_dir=\"Sample_Datasets\"\n",
    "\n",
    "sample_dir=os.path.join(parent_dir,new_dir)\n",
    "print(sample_dir)\n",
    "if not(os.path.exists(sample_dir)):\n",
    "    os.mkdir(sample_dir)\n",
    "\n",
    "try :    \n",
    "    years=[2009,2010,2011,2012,2013,2014,2015]\n",
    "\n",
    "    for yy in years:\n",
    "        print(f\"\\n >> Created sample dataset of {yy}.\")\n",
    "        file=dataset_dir+\"\\\\\"+f\"{yy}_data.csv\"\n",
    "        #load data\n",
    "        df=pd.read_csv(file).sample(1000000)\n",
    "        #print(df.columns)\n",
    "        # create file\n",
    "        file=sample_dir+\"\\\\\"+f\"Sample_dataset_of_{yy}.csv\"\n",
    "        # store sample dataset\n",
    "        df.to_csv(file,index=False)\n",
    "        \n",
    "\n",
    "except Exception as error:\n",
    "    print(\"\\n Error : \",error)\n",
    "       \n",
    "        \n"
   ]
  }
 ],
 "metadata": {
  "kernelspec": {
   "display_name": "Python 3 (ipykernel)",
   "language": "python",
   "name": "python3"
  },
  "language_info": {
   "codemirror_mode": {
    "name": "ipython",
    "version": 3
   },
   "file_extension": ".py",
   "mimetype": "text/x-python",
   "name": "python",
   "nbconvert_exporter": "python",
   "pygments_lexer": "ipython3",
   "version": "3.10.5"
  },
  "vscode": {
   "interpreter": {
    "hash": "36a20624bae6956a6064e67610dbd39318b0a88fd57503e729bd6efeb0477185"
   }
  }
 },
 "nbformat": 4,
 "nbformat_minor": 2
}
